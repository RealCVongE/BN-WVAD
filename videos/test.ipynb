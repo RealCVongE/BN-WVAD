{
 "cells": [
  {
   "cell_type": "code",
   "execution_count": 1,
   "metadata": {},
   "outputs": [
    {
     "name": "stdout",
     "output_type": "stream",
     "text": [
      "Requirement already satisfied: opencv-python in /home/bigdeal/anaconda3/envs/wvad/lib/python3.11/site-packages (4.9.0.80)\n",
      "Requirement already satisfied: numpy>=1.21.2 in /home/bigdeal/anaconda3/envs/wvad/lib/python3.11/site-packages (from opencv-python) (1.26.4)\n"
     ]
    }
   ],
   "source": [
    "!pip install opencv-python"
   ]
  },
  {
   "cell_type": "code",
   "execution_count": 1,
   "metadata": {},
   "outputs": [],
   "source": [
    "import cv2\n",
    "\n",
    "# 비디오 파일 경로\n",
    "video_path = 'v=S-7rRLrxnVQ__#1_label_B4-0-0.mp4'\n",
    "\n",
    "# 비디오 파일 열기\n",
    "cap = cv2.VideoCapture(video_path)\n",
    "\n",
    "# 원하는 누적 프레임 번호\n",
    "desired_frame_number = 3038  # 예: 100번째 프레임으로 이동\n",
    "\n",
    "# 프레임 번호를 설정하여 해당 프레임으로 이동\n",
    "cap.set(cv2.CAP_PROP_POS_FRAMES, desired_frame_number)\n",
    "\n",
    "# 프레임 읽기\n",
    "ret, frame = cap.read()\n",
    "\n",
    "# 프레임 정보 확인\n",
    "frame_time = cap.get(cv2.CAP_PROP_POS_MSEC) / 1000  # 현재 프레임의 시간(초)\n",
    "current_frame_number = cap.get(cv2.CAP_PROP_POS_FRAMES)  # 현재 프레임 번호\n",
    "\n",
    "# 프레임을 보여주고 싶다면, 다음 코드를 사용합니다. (선택 사항)\n",
    "if ret:\n",
    "    cv2.imshow('Frame', frame)\n",
    "    cv2.waitKey(0)\n",
    "    cv2.destroyAllWindows()\n",
    "\n",
    "# 비디오 해제\n",
    "cap.release()\n",
    "\n",
    "print(f\"Desired frame number: {desired_frame_number}\")\n",
    "print(f\"Current frame number: {current_frame_number}\")\n",
    "print(f\"Current time: {frame_time} seconds\")\n"
   ]
  },
  {
   "cell_type": "code",
   "execution_count": null,
   "metadata": {},
   "outputs": [],
   "source": []
  }
 ],
 "metadata": {
  "kernelspec": {
   "display_name": "wvad",
   "language": "python",
   "name": "python3"
  },
  "language_info": {
   "codemirror_mode": {
    "name": "ipython",
    "version": 3
   },
   "file_extension": ".py",
   "mimetype": "text/x-python",
   "name": "python",
   "nbconvert_exporter": "python",
   "pygments_lexer": "ipython3",
   "version": "3.11.8"
  }
 },
 "nbformat": 4,
 "nbformat_minor": 2
}
