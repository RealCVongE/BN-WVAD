{
 "cells": [
  {
   "cell_type": "code",
   "execution_count": 12,
   "metadata": {},
   "outputs": [
    {
     "name": "stdout",
     "output_type": "stream",
     "text": [
      "Collecting matplotlib\n",
      "  Using cached matplotlib-3.8.3-cp311-cp311-manylinux_2_17_x86_64.manylinux2014_x86_64.whl.metadata (5.8 kB)\n",
      "Collecting contourpy>=1.0.1 (from matplotlib)\n",
      "  Using cached contourpy-1.2.0-cp311-cp311-manylinux_2_17_x86_64.manylinux2014_x86_64.whl.metadata (5.8 kB)\n",
      "Collecting cycler>=0.10 (from matplotlib)\n",
      "  Using cached cycler-0.12.1-py3-none-any.whl.metadata (3.8 kB)\n",
      "Collecting fonttools>=4.22.0 (from matplotlib)\n",
      "  Using cached fonttools-4.49.0-cp311-cp311-manylinux_2_17_x86_64.manylinux2014_x86_64.whl.metadata (159 kB)\n",
      "Collecting kiwisolver>=1.3.1 (from matplotlib)\n",
      "  Using cached kiwisolver-1.4.5-cp311-cp311-manylinux_2_17_x86_64.manylinux2014_x86_64.whl.metadata (6.4 kB)\n",
      "Requirement already satisfied: numpy<2,>=1.21 in /home/bigdeal/anaconda3/envs/wvad/lib/python3.11/site-packages (from matplotlib) (1.26.4)\n",
      "Requirement already satisfied: packaging>=20.0 in /home/bigdeal/anaconda3/envs/wvad/lib/python3.11/site-packages (from matplotlib) (23.2)\n",
      "Requirement already satisfied: pillow>=8 in /home/bigdeal/anaconda3/envs/wvad/lib/python3.11/site-packages (from matplotlib) (9.4.0)\n",
      "Collecting pyparsing>=2.3.1 (from matplotlib)\n",
      "  Using cached pyparsing-3.1.1-py3-none-any.whl.metadata (5.1 kB)\n",
      "Requirement already satisfied: python-dateutil>=2.7 in /home/bigdeal/anaconda3/envs/wvad/lib/python3.11/site-packages (from matplotlib) (2.9.0)\n",
      "Requirement already satisfied: six>=1.5 in /home/bigdeal/anaconda3/envs/wvad/lib/python3.11/site-packages (from python-dateutil>=2.7->matplotlib) (1.16.0)\n",
      "Using cached matplotlib-3.8.3-cp311-cp311-manylinux_2_17_x86_64.manylinux2014_x86_64.whl (11.6 MB)\n",
      "Using cached contourpy-1.2.0-cp311-cp311-manylinux_2_17_x86_64.manylinux2014_x86_64.whl (313 kB)\n",
      "Using cached cycler-0.12.1-py3-none-any.whl (8.3 kB)\n",
      "Using cached fonttools-4.49.0-cp311-cp311-manylinux_2_17_x86_64.manylinux2014_x86_64.whl (4.9 MB)\n",
      "Using cached kiwisolver-1.4.5-cp311-cp311-manylinux_2_17_x86_64.manylinux2014_x86_64.whl (1.4 MB)\n",
      "Using cached pyparsing-3.1.1-py3-none-any.whl (103 kB)\n",
      "Installing collected packages: pyparsing, kiwisolver, fonttools, cycler, contourpy, matplotlib\n",
      "Successfully installed contourpy-1.2.0 cycler-0.12.1 fonttools-4.49.0 kiwisolver-1.4.5 matplotlib-3.8.3 pyparsing-3.1.1\n"
     ]
    }
   ],
   "source": [
    "!pip install matplotlib"
   ]
  },
  {
   "cell_type": "code",
   "execution_count": 5,
   "metadata": {},
   "outputs": [
    {
     "name": "stdout",
     "output_type": "stream",
     "text": [
      "Collecting seaborn\n",
      "  Using cached seaborn-0.13.2-py3-none-any.whl.metadata (5.4 kB)\n",
      "Requirement already satisfied: numpy!=1.24.0,>=1.20 in /home/bigdeal/anaconda3/envs/wvad/lib/python3.11/site-packages (from seaborn) (1.26.4)\n",
      "Collecting pandas>=1.2 (from seaborn)\n",
      "  Using cached pandas-2.2.1-cp311-cp311-manylinux_2_17_x86_64.manylinux2014_x86_64.whl.metadata (19 kB)\n",
      "Requirement already satisfied: matplotlib!=3.6.1,>=3.4 in /home/bigdeal/anaconda3/envs/wvad/lib/python3.11/site-packages (from seaborn) (3.8.3)\n",
      "Requirement already satisfied: contourpy>=1.0.1 in /home/bigdeal/anaconda3/envs/wvad/lib/python3.11/site-packages (from matplotlib!=3.6.1,>=3.4->seaborn) (1.2.0)\n",
      "Requirement already satisfied: cycler>=0.10 in /home/bigdeal/anaconda3/envs/wvad/lib/python3.11/site-packages (from matplotlib!=3.6.1,>=3.4->seaborn) (0.12.1)\n",
      "Requirement already satisfied: fonttools>=4.22.0 in /home/bigdeal/anaconda3/envs/wvad/lib/python3.11/site-packages (from matplotlib!=3.6.1,>=3.4->seaborn) (4.49.0)\n",
      "Requirement already satisfied: kiwisolver>=1.3.1 in /home/bigdeal/anaconda3/envs/wvad/lib/python3.11/site-packages (from matplotlib!=3.6.1,>=3.4->seaborn) (1.4.5)\n",
      "Requirement already satisfied: packaging>=20.0 in /home/bigdeal/anaconda3/envs/wvad/lib/python3.11/site-packages (from matplotlib!=3.6.1,>=3.4->seaborn) (23.2)\n",
      "Requirement already satisfied: pillow>=8 in /home/bigdeal/anaconda3/envs/wvad/lib/python3.11/site-packages (from matplotlib!=3.6.1,>=3.4->seaborn) (9.4.0)\n",
      "Requirement already satisfied: pyparsing>=2.3.1 in /home/bigdeal/anaconda3/envs/wvad/lib/python3.11/site-packages (from matplotlib!=3.6.1,>=3.4->seaborn) (3.1.1)\n",
      "Requirement already satisfied: python-dateutil>=2.7 in /home/bigdeal/anaconda3/envs/wvad/lib/python3.11/site-packages (from matplotlib!=3.6.1,>=3.4->seaborn) (2.9.0)\n",
      "Collecting pytz>=2020.1 (from pandas>=1.2->seaborn)\n",
      "  Using cached pytz-2024.1-py2.py3-none-any.whl.metadata (22 kB)\n",
      "Collecting tzdata>=2022.7 (from pandas>=1.2->seaborn)\n",
      "  Using cached tzdata-2024.1-py2.py3-none-any.whl.metadata (1.4 kB)\n",
      "Requirement already satisfied: six>=1.5 in /home/bigdeal/anaconda3/envs/wvad/lib/python3.11/site-packages (from python-dateutil>=2.7->matplotlib!=3.6.1,>=3.4->seaborn) (1.16.0)\n",
      "Using cached seaborn-0.13.2-py3-none-any.whl (294 kB)\n",
      "Using cached pandas-2.2.1-cp311-cp311-manylinux_2_17_x86_64.manylinux2014_x86_64.whl (13.0 MB)\n",
      "Using cached pytz-2024.1-py2.py3-none-any.whl (505 kB)\n",
      "Using cached tzdata-2024.1-py2.py3-none-any.whl (345 kB)\n",
      "Installing collected packages: pytz, tzdata, pandas, seaborn\n",
      "Successfully installed pandas-2.2.1 pytz-2024.1 seaborn-0.13.2 tzdata-2024.1\n"
     ]
    }
   ],
   "source": [
    "!pip install seaborn"
   ]
  },
  {
   "cell_type": "code",
   "execution_count": 2,
   "metadata": {},
   "outputs": [
    {
     "name": "stdout",
     "output_type": "stream",
     "text": [
      "[ True  True  True ... False False False]\n",
      "2330384\n",
      "요소 True: 빈도 1078016\n",
      "요소 False: 빈도 1252368\n"
     ]
    }
   ],
   "source": [
    "import seaborn as sns\n",
    "import numpy as np\n",
    "import matplotlib.pyplot as plt\n",
    "from collections import Counter\n",
    "\n",
    "# .npy 파일의 경로를 지정합니다.\n",
    "file_path = 'frame_label/xd_anomaly_mask.npy'\n",
    "\n",
    "# 파일 로드\n",
    "data = np.load(file_path)\n",
    "\n",
    "# 데이터 출력\n",
    "print(data)\n",
    "\n",
    "print(len(data))\n",
    "# Counter 객체 생성\n",
    "element_counts = Counter(data)\n",
    "\n",
    "# 요소 종류 및 빈도 출력\n",
    "for element, count in element_counts.items():\n",
    "    print(f\"요소 {element}: 빈도 {count}\")"
   ]
  },
  {
   "cell_type": "code",
   "execution_count": 3,
   "metadata": {},
   "outputs": [
    {
     "name": "stdout",
     "output_type": "stream",
     "text": [
      "[0. 0. 0. ... 0. 0. 0.]\n",
      "2330384\n",
      "요소 0.0: 빈도 1792579\n",
      "요소 1.0: 빈도 537805\n"
     ]
    }
   ],
   "source": [
    "import seaborn as sns\n",
    "import numpy as np\n",
    "import matplotlib.pyplot as plt\n",
    "from collections import Counter\n",
    "\n",
    "# .npy 파일의 경로를 지정합니다.\n",
    "file_path = 'frame_label/xd_gt.npy'\n",
    "\n",
    "# 파일 로드\n",
    "data = np.load(file_path)\n",
    "\n",
    "# 데이터 출력\n",
    "print(data)\n",
    "\n",
    "print(len(data))\n",
    "# Counter 객체 생성\n",
    "element_counts = Counter(data)\n",
    "\n",
    "# 요소 종류 및 빈도 출력\n",
    "for element, count in element_counts.items():\n",
    "    print(f\"요소 {element}: 빈도 {count}\")"
   ]
  },
  {
   "cell_type": "code",
   "execution_count": null,
   "metadata": {},
   "outputs": [],
   "source": []
  },
  {
   "cell_type": "code",
   "execution_count": 9,
   "metadata": {},
   "outputs": [
    {
     "data": {
      "image/png": "[encoded data removed]",
      "text/plain": [
       "<Figure size 1000x200 with 1 Axes>"
      ]
     },
     "metadata": {},
     "output_type": "display_data"
    }
   ],
   "source": [
    "import numpy as np\n",
    "import matplotlib.pyplot as plt\n",
    "\n",
    "# .npy 파일 로드 (예시 데이터로 대체)\n",
    "data = np.load('frame_label/xd_anomaly_mask.npy')\n",
    "\n",
    "# True와 False 값의 인덱스를 각각 찾기\n",
    "true_indices = np.where(data == True)[0]\n",
    "false_indices = np.where(data == False)[0]\n",
    "\n",
    "# 산점도를 이용해 True와 False 값 시각화\n",
    "plt.figure(figsize=(10, 2))  # 그래프 크기 설정\n",
    "plt.scatter(true_indices, np.ones_like(true_indices), color='blue', alpha=0.6, label='True')\n",
    "plt.scatter(false_indices, np.zeros_like(false_indices), color='red', alpha=0.6, label='False')\n",
    "\n",
    "# 레이블과 제목 추가\n",
    "plt.yticks([0, 1], ['False', 'True'])  # Y축에 True/False 레이블 지정\n",
    "plt.xlabel('Index')\n",
    "plt.ylabel('Value')\n",
    "plt.title('Distribution of True/False Values Across Indices')\n",
    "plt.legend()  # 범례 표시\n",
    "\n",
    "# 그래프 보여주기\n",
    "plt.tight_layout()  # 그래프 레이아웃 조정\n",
    "plt.show()\n"
   ]
  },
  {
   "cell_type": "code",
   "execution_count": 20,
   "metadata": {},
   "outputs": [
    {
     "name": "stdout",
     "output_type": "stream",
     "text": [
      "요소 True: 빈도 1078016\n",
      "요소 False: 빈도 1252368\n"
     ]
    }
   ],
   "source": [
    "# Counter 객체 생성\n",
    "element_counts = Counter(data)\n",
    "\n",
    "# 요소 종류 및 빈도 출력\n",
    "for element, count in element_counts.items():\n",
    "    print(f\"요소 {element}: 빈도 {count}\")"
   ]
  },
  {
   "cell_type": "code",
   "execution_count": 22,
   "metadata": {},
   "outputs": [
    {
     "name": "stdout",
     "output_type": "stream",
     "text": [
      "[0. 0. 0. ... 0. 0. 0.]\n",
      "2330384\n"
     ]
    }
   ],
   "source": [
    "import numpy as np\n",
    "\n",
    "# .npy 파일의 경로를 지정합니다.\n",
    "file_path = 'frame_label/xd_gt.npy'\n",
    "\n",
    "# 파일 로드\n",
    "data = np.load(file_path)\n",
    "\n",
    "# 데이터 출력\n",
    "print(data)\n",
    "print(len(data))"
   ]
  },
  {
   "cell_type": "code",
   "execution_count": 10,
   "metadata": {},
   "outputs": [
    {
     "name": "stdout",
     "output_type": "stream",
     "text": [
      "[    157     158     159 ... 1077804 1077805 1077806]\n",
      "[      0       1       2 ... 2330381 2330382 2330383]\n"
     ]
    },
    {
     "data": {
      "image/png": "[encoded data removed]",
      "text/plain": [
       "<Figure size 1000x200 with 1 Axes>"
      ]
     },
     "metadata": {},
     "output_type": "display_data"
    }
   ],
   "source": [
    "import numpy as np\n",
    "import matplotlib.pyplot as plt\n",
    "\n",
    "# .npy 파일 로드 (예시 데이터로 대체)\n",
    "data = np.load('frame_label/xd_gt.npy')\n",
    "\n",
    "# True와 False 값의 인덱스를 각각 찾기\n",
    "true_indices = np.where(data == 1.0)[0]\n",
    "false_indices = np.where(data == 0.0)[0]\n",
    "print(true_indices)\n",
    "print(false_indices)\n",
    "# 산점도를 이용해 True와 False 값 시각화\n",
    "plt.figure(figsize=(10, 2))  # 그래프 크기 설정\n",
    "plt.scatter(true_indices, np.ones_like(true_indices), color='blue', alpha=0.6, label='True')\n",
    "plt.scatter(false_indices, np.zeros_like(false_indices), color='red', alpha=0.6, label='False')\n",
    "\n",
    "# 레이블과 제목 추가\n",
    "plt.yticks([0, 1], ['False', 'True'])  # Y축에 True/False 레이블 지정\n",
    "plt.xlabel('Index')\n",
    "plt.ylabel('Value')\n",
    "plt.title('Distribution of True/False Values Across Indices')\n",
    "plt.legend()  # 범례 표시\n",
    "\n",
    "# 그래프 보여주기\n",
    "plt.tight_layout()  # 그래프 레이아웃 조정\n",
    "plt.show()\n"
   ]
  },
  {
   "cell_type": "code",
   "execution_count": 23,
   "metadata": {},
   "outputs": [
    {
     "name": "stdout",
     "output_type": "stream",
     "text": [
      "요소 0.0: 빈도 1792579\n",
      "요소 1.0: 빈도 537805\n"
     ]
    }
   ],
   "source": [
    "# Counter 객체 생성\n",
    "element_counts = Counter(data)\n",
    "\n",
    "# 요소 종류 및 빈도 출력\n",
    "for element, count in element_counts.items():\n",
    "    print(f\"요소 {element}: 빈도 {count}\")"
   ]
  },
  {
   "cell_type": "code",
   "execution_count": 11,
   "metadata": {},
   "outputs": [
    {
     "name": "stdout",
     "output_type": "stream",
     "text": [
      "차원: (360, 1024)\n",
      "전체 요소 개수: 368640\n",
      "차원: (360, 1024)\n",
      "전체 요소 개수: 368640\n"
     ]
    }
   ],
   "source": [
    "import numpy as np\n",
    "\n",
    "# .npy 파일의 경로를 지정합니다.\n",
    "file_path = 'i3d-features/i3d-features/test/A.Beautiful.Mind.2001__#00-25-20_00-29-20_label_A__0.npy'\n",
    "\n",
    "# 파일 로드\n",
    "data = np.load(file_path)\n",
    "\n",
    "# 데이터 출력\n",
    "dimensions = data.shape\n",
    "print(f\"차원: {dimensions}\")\n",
    "total_elements = np.size(data)\n",
    "print(f\"전체 요소 개수: {total_elements}\")\n",
    "import numpy as np\n",
    "\n",
    "# .npy 파일의 경로를 지정합니다.\n",
    "file_path = 'i3d-features/i3d-features/test/A.Beautiful.Mind.2001__#00-25-20_00-29-20_label_A__1.npy'\n",
    "\n",
    "# 파일 로드\n",
    "data = np.load(file_path)\n",
    "\n",
    "# 데이터 출력\n",
    "dimensions = data.shape\n",
    "print(f\"차원: {dimensions}\")\n",
    "total_elements = np.size(data)\n",
    "print(f\"전체 요소 개수: {total_elements}\")"
   ]
  },
  {
   "cell_type": "code",
   "execution_count": 32,
   "metadata": {},
   "outputs": [
    {
     "name": "stdout",
     "output_type": "stream",
     "text": [
      "차원: (270, 1024)\n",
      "전체 요소 개수: 276480\n"
     ]
    }
   ],
   "source": [
    "import numpy as np\n",
    "\n",
    "# .npy 파일의 경로를 지정합니다.\n",
    "file_path = 'i3d-features/i3d-features/test/v=VRn8Tc02TbU__#00-18-00_00-21-00_label_A__2.npy'\n",
    "\n",
    "# 파일 로드\n",
    "data = np.load(file_path)\n",
    "\n",
    "# 데이터 출력\n",
    "dimensions = data.shape\n",
    "print(f\"차원: {dimensions}\")\n",
    "total_elements = np.size(data)\n",
    "print(f\"전체 요소 개수: {total_elements}\")\n"
   ]
  },
  {
   "cell_type": "code",
   "execution_count": 9,
   "metadata": {},
   "outputs": [
    {
     "name": "stdout",
     "output_type": "stream",
     "text": [
      "차원: (104, 1024)\n",
      "전체 요소 개수: 106496\n",
      "[[0.2656979  0.09181245 0.12523103 ... 0.19131182 0.22926542 0.04300245]\n",
      " [0.22666004 0.08650335 0.18646243 ... 0.32944715 0.2822293  0.05631159]\n",
      " [0.24007699 0.09267863 0.28373498 ... 0.25096232 0.29121658 0.0377878 ]\n",
      " ...\n",
      " [0.256228   0.104327   0.23260993 ... 0.07807842 0.11331994 0.13259283]\n",
      " [0.13173266 0.05873043 0.12915288 ... 0.223014   0.05899167 0.02286525]\n",
      " [0.23395468 0.07101676 0.15080088 ... 0.0936668  0.07504789 0.09856173]]\n",
      "[  2133.33333333   4266.66666667   6400.           8533.33333333\n",
      "  10666.66666667  12800.          14933.33333333  17066.66666667\n",
      "  19200.          21333.33333333  23466.66666667  25600.\n",
      "  27733.33333333  29866.66666667  32000.          34133.33333333\n",
      "  36266.66666667  38400.          40533.33333333  42666.66666667\n",
      "  44800.          46933.33333333  49066.66666667  51200.\n",
      "  53333.33333333  55466.66666667  57600.          59733.33333333\n",
      "  61866.66666667  64000.          66133.33333333  68266.66666667\n",
      "  70400.          72533.33333333  74666.66666667  76800.\n",
      "  78933.33333333  81066.66666667  83200.          85333.33333333\n",
      "  87466.66666667  89600.          91733.33333333  93866.66666667\n",
      "  96000.          98133.33333333 100266.66666667 102400.\n",
      " 104533.33333333 106666.66666667 108800.         110933.33333333\n",
      " 113066.66666667 115200.         117333.33333333 119466.66666667\n",
      " 121600.         123733.33333333 125866.66666667 128000.\n",
      " 130133.33333333 132266.66666667 134400.         136533.33333333\n",
      " 138666.66666667 140800.         142933.33333333 145066.66666667\n",
      " 147200.         149333.33333333 151466.66666667 153600.\n",
      " 155733.33333333 157866.66666667 160000.         162133.33333333\n",
      " 164266.66666667 166400.         168533.33333333 170666.66666667\n",
      " 172800.         174933.33333333 177066.66666667 179200.\n",
      " 181333.33333333 183466.66666667 185600.         187733.33333333\n",
      " 189866.66666667 192000.         194133.33333333 196266.66666667\n",
      " 198400.         200533.33333333 202666.66666667 204800.\n",
      " 206933.33333333 209066.66666667 211200.         213333.33333333\n",
      " 215466.66666667 217600.         219733.33333333 221866.66666667]\n"
     ]
    }
   ],
   "source": [
    "import numpy as np\n",
    "\n",
    "# .npy 파일의 경로를 지정합니다.\n",
    "file_path = 'UCF_Crimes_npy/i3d/Shoplifting004_x264__5_rgb.npy'\n",
    "file_path2 = 'UCF_Crimes_npy/i3d/Shoplifting004_x264__5_timestamps_ms.npy'\n",
    "\n",
    "# 파일 로드Shoplifting001_x264__1_timestamps_ms.npy\n",
    "data = np.load(file_path)\n",
    "data2 = np.load(file_path2)\n",
    "\n",
    "# 데이터 출력\n",
    "dimensions = data.shape\n",
    "print(f\"차원: {dimensions}\")\n",
    "total_elements = np.size(data)\n",
    "print(f\"전체 요소 개수: {total_elements}\")\n",
    "print(data)\n",
    "print(data2)\n"
   ]
  },
  {
   "cell_type": "code",
   "execution_count": 31,
   "metadata": {},
   "outputs": [
    {
     "name": "stdout",
     "output_type": "stream",
     "text": [
      "차원: (112, 1024)\n",
      "전체 요소 개수: 114688\n"
     ]
    }
   ],
   "source": [
    "import numpy as np\n",
    "\n",
    "# .npy 파일의 경로를 지정합니다.\n",
    "file_path = 'i3d-features/i3d-features/test/Young.And.Dangerous.IV.1997__#0-10-35_0-11-50_label_A__2.npy'\n",
    "\n",
    "# 파일 로드\n",
    "data = np.load(file_path)\n",
    "\n",
    "# 데이터 출력\n",
    "dimensions = data.shape\n",
    "print(f\"차원: {dimensions}\")\n",
    "total_elements = np.size(data)\n",
    "print(f\"전체 요소 개수: {total_elements}\")\n"
   ]
  },
  {
   "cell_type": "markdown",
   "metadata": {},
   "source": [
    "## 파일명 분석: i3d-features/i3d-features/test/A.Beautiful.Mind.2001__#00-25-20_00-29-20_label_A__0.npy\n",
    "\n",
    "**1. 파일 구조**\n",
    "\n",
    "파일명은 다음과 같은 구조로 구성됩니다.\n",
    "\n",
    "- **폴더:**\n",
    "    - `i3d-features`: i3D 모델 학습에 사용된 특징 추출 결과를 저장하는 폴더\n",
    "    - `test`: 테스트 데이터 폴더\n",
    "\n",
    "- **파일명:**\n",
    "    - `A.Beautiful.Mind.2001`: 영화 제목\n",
    "    - `__#00-25-20_00-29-20`: 영상 시작 시간과 종료 시간 (HH:MM:SS 형식)\n",
    "    - `_label_A`: 레이블 (A는 '정상'을 의미하는 예시)\n",
    "    - `__0`: 동일한 영상에서 추출된 여러 특징 중 하나를 나타내는 고유 번호\n",
    "\n",
    "**2. 의미 해석**\n",
    "\n",
    "- 파일은 영화 \"A.Beautiful.Mind.2001\"의 25분 20초부터 29분 20초까지 영상의 특징을 저장합니다.\n",
    "- `_label_A`는 영상이 '정상'으로 분류되었음을 나타냅니다.\n",
    "- `__0`는 동일한 영상에서 추출된 여러 특징 중 첫 번째 특징임을 나타냅니다.\n",
    "\n",
    "**3. 추가 정보**\n",
    "\n",
    "- i3D 모델은 영상 분류 및 액션 인식 등에 사용되는 인공지능 모델입니다.\n",
    "- 특징 추출 과정은 영상을 벡터화하여 모델 학습에 사용할 수 있는 데이터로 변환하는 과정입니다.\n",
    "- 레이블은 영상의 정상/비정상 여부, 액션 유형 등을 나타내는 범주입니다.\n",
    "\n",
    "**4. 활용**\n",
    "\n",
    "- 영상 분석 및 분류\n",
    "- 액션 인식\n",
    "- 인공지능 모델 학습\n",
    "\n",
    "**5. 참고자료**\n",
    "\n",
    "- i3D 모델: [유효하지 않은 URL 삭제됨]\n",
    "- 영상 특징 추출: [https://www.tensorflow.org/tutorials/images/cnn](https://www.tensorflow.org/tutorials/images/cnn)\n",
    "\n"
   ]
  },
  {
   "cell_type": "markdown",
   "metadata": {},
   "source": [
    "## i3D 특징 추출 결과 분석: 차원 이해하기\n",
    "\n",
    "**1. 차원 분석**\n",
    "\n",
    "- **첫 번째 차원 (360):**\n",
    "\n",
    "    - 360개의 프레임으로 구성된 영상의 특징을 나타냅니다.\n",
    "    - 각 프레임은 1024개의 특징 벡터로 표현됩니다.\n",
    "\n",
    "- **두 번째 차원 (1024):**\n",
    "\n",
    "    - 각 프레임을 표현하는 1024개의 특징 벡터를 나타냅니다.\n",
    "    - 각 특징 벡터는 영상의 다양한 특징을 나타냅니다.\n",
    "\n",
    "**2. 특징 벡터 분석**\n",
    "\n",
    "- i3D 모델은 영상을 3D 컨볼루션 레이어를 통해 분석하여 각 프레임의 특징 벡터를 추출합니다.\n",
    "- 각 특징 벡터는 다음과 같은 정보를 포함합니다.\n",
    "\n",
    "    - 영상의 질감\n",
    "    - 색상\n",
    "    - 모션\n",
    "    - 객체\n",
    "    - 장면\n",
    "\n",
    "**3. 특징 벡터 활용**\n",
    "\n",
    "- 추출된 특징 벡터는 영상 분류, 액션 인식, 이상 탐지 등 다양한 분야에 활용될 수 있습니다.\n",
    "\n",
    "**4. 참고자료**\n",
    "\n",
    "- i3D 모델: [유효하지 않은 URL 삭제됨]\n",
    "- 영상 특징 추출: [https://www.tensorflow.org/tutorials/images/cnn](https://www.tensorflow.org/tutorials/images/cnn)\n",
    "\n",
    "**5. 추가 분석**\n",
    "\n",
    "- 특정 프레임의 특징 벡터를 시각화하여 분석\n",
    "- 특징 벡터 간의 상관관계 분석\n",
    "- 특징 벡터를 사용하여 영상 분류 모델 학습\n",
    "\n",
    "**6. 시각화 예시**\n",
    "\n",
    "```python\n",
    "# 특정 프레임의 특징 벡터 시각화\n",
    "\n",
    "import matplotlib.pyplot as plt\n",
    "\n",
    "frame_index = 100\n",
    "\n",
    "plt.plot(data[frame_index])\n",
    "plt.xlabel(\"특징 벡터 인덱스\")\n",
    "plt.ylabel(\"특징 값\")\n",
    "plt.title(f\"프레임 {frame_index}의 특징 벡터\")\n",
    "plt.show()\n",
    "```\n",
    "\n",
    "**7. 활용 예시**\n",
    "\n",
    "```python\n",
    "# 특징 벡터를 사용하여 영상 분류 모델 학습\n",
    "\n",
    "from sklearn.svm import SVC\n",
    "\n",
    "# 학습 데이터 준비\n",
    "X_train = data_train\n",
    "y_train = labels_train\n",
    "\n",
    "# 모델 학습\n",
    "clf = SVC()\n",
    "clf.fit(X_train, y_train)\n",
    "\n",
    "# 테스트 데이터 예측\n",
    "X_test = data_test\n",
    "y_pred = clf.predict(X_test)\n",
    "\n",
    "# 정확도 평가\n",
    "accuracy = accuracy_score(y_test, y_pred)\n",
    "\n",
    "print(f\"정확도: {accuracy}\")\n",
    "```\n",
    "\n",
    "**8. 주의 사항**\n",
    "\n",
    "- 특징 벡터의 의미는 모델 학습 방식 및 데이터에 따라 달라질 수 있습니다.\n",
    "- 특징 벡터를 분석하기 전에 모델 학습 방식 및 데이터 특성을 이해해야 합니다."
   ]
  },
  {
   "cell_type": "code",
   "execution_count": 4,
   "metadata": {},
   "outputs": [
    {
     "data": {
      "image/png": "[encoded data removed]",
      "text/plain": [
       "<Figure size 1000x200 with 1 Axes>"
      ]
     },
     "metadata": {},
     "output_type": "display_data"
    }
   ],
   "source": [
    "import numpy as np\n",
    "import matplotlib.pyplot as plt\n",
    "\n",
    "# .npy 파일 로드 (예시 데이터로 대체)\n",
    "data = np.load('gt-ucf.npy')\n",
    "\n",
    "# True와 False 값의 인덱스를 각각 찾기\n",
    "true_indices = np.where(data == True)[0]\n",
    "false_indices = np.where(data == False)[0]\n",
    "\n",
    "# 산점도를 이용해 True와 False 값 시각화\n",
    "plt.figure(figsize=(10, 2))  # 그래프 크기 설정\n",
    "plt.scatter(true_indices, np.ones_like(true_indices), color='blue', alpha=0.6, label='True')\n",
    "plt.scatter(false_indices, np.zeros_like(false_indices), color='red', alpha=0.6, label='False')\n",
    "\n",
    "# 레이블과 제목 추가\n",
    "plt.yticks([0, 1], ['False', 'True'])  # Y축에 True/False 레이블 지정\n",
    "plt.xlabel('Index')\n",
    "plt.ylabel('Value')\n",
    "plt.title('Distribution of True/False Values Across Indices')\n",
    "plt.legend()  # 범례 표시\n",
    "\n",
    "# 그래프 보여주기\n",
    "plt.tight_layout()  # 그래프 레이아웃 조정\n",
    "plt.show()\n"
   ]
  },
  {
   "cell_type": "code",
   "execution_count": 7,
   "metadata": {},
   "outputs": [
    {
     "name": "stdout",
     "output_type": "stream",
     "text": [
      "[0. 0. 0. ... 0. 0. 0.]\n",
      "1109680\n",
      "요소 0.0: 빈도 1025552\n",
      "요소 1.0: 빈도 84128\n"
     ]
    }
   ],
   "source": [
    "import seaborn as sns\n",
    "import numpy as np\n",
    "import matplotlib.pyplot as plt\n",
    "from collections import Counter\n",
    "\n",
    "# .npy 파일의 경로를 지정합니다.\n",
    "file_path = 'gt-ucf.npy'\n",
    "\n",
    "# 파일 로드\n",
    "data = np.load(file_path)\n",
    "\n",
    "# 데이터 출력\n",
    "print(data)\n",
    "\n",
    "print(len(data))\n",
    "# Counter 객체 생성\n",
    "element_counts = Counter(data)\n",
    "\n",
    "# 요소 종류 및 빈도 출력\n",
    "for element, count in element_counts.items():\n",
    "    print(f\"요소 {element}: 빈도 {count}\")"
   ]
  },
  {
   "cell_type": "code",
   "execution_count": 8,
   "metadata": {},
   "outputs": [
    {
     "name": "stdout",
     "output_type": "stream",
     "text": [
      "마지막 1이 나오는 인덱스: 461495\n"
     ]
    }
   ],
   "source": [
    "def find_last_index_of_1(list_data):\n",
    "  \"\"\"\n",
    "  리스트에서 마지막 1이 나오는 인덱스를 찾습니다.\n",
    "\n",
    "  Args:\n",
    "    list_data: 1을 포함하는 리스트\n",
    "\n",
    "  Returns:\n",
    "    마지막 1이 나오는 인덱스 또는 -1 (1이 없는 경우)\n",
    "  \"\"\"\n",
    "  last_index = -1\n",
    "  for i, element in enumerate(list_data):\n",
    "    if element == 1:\n",
    "      last_index = i\n",
    "  return last_index\n",
    "\n",
    "# 예시\n",
    "last_index = find_last_index_of_1(data)\n",
    "print(f\"마지막 1이 나오는 인덱스: {last_index}\")\n"
   ]
  },
  {
   "cell_type": "code",
   "execution_count": 11,
   "metadata": {},
   "outputs": [
    {
     "name": "stdout",
     "output_type": "stream",
     "text": [
      "(1109680,)\n"
     ]
    }
   ],
   "source": [
    "# 461495+363=461858\n",
    "import numpy as np\n",
    "\n",
    "# 461858까지 True, 1109679까지 False인 NumPy 리스트 생성\n",
    "\n",
    "# 1. 461859개의 True 값을 가진 배열 생성\n",
    "true_array = np.full(461859, True, dtype=bool)\n",
    "\n",
    "# 2. 461859부터 1109678까지 False 값을 가진 배열 생성\n",
    "false_array = np.full(1109680 - 461859, False, dtype=bool)\n",
    "\n",
    "# 3. 두 배열을 결합하여 최종 리스트 생성\n",
    "combined_array = np.concatenate((true_array, false_array))\n",
    "\n",
    "# 결과 출력\n",
    "print(combined_array.shape)\n",
    "\n",
    "\n",
    "np.save(\"anomaly_mask_ucf.npy\", combined_array)\n"
   ]
  },
  {
   "cell_type": "code",
   "execution_count": null,
   "metadata": {},
   "outputs": [],
   "source": []
  }
 ],
 "metadata": {
  "kernelspec": {
   "display_name": "wvad",
   "language": "python",
   "name": "python3"
  },
  "language_info": {
   "codemirror_mode": {
    "name": "ipython",
    "version": 3
   },
   "file_extension": ".py",
   "mimetype": "text/x-python",
   "name": "python",
   "nbconvert_exporter": "python",
   "pygments_lexer": "ipython3",
   "version": "3.11.8"
  }
 },
 "nbformat": 4,
 "nbformat_minor": 2
}
