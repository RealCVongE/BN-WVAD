{
 "cells": [
  {
   "cell_type": "code",
   "execution_count": 12,
   "metadata": {},
   "outputs": [
    {
     "name": "stdout",
     "output_type": "stream",
     "text": [
      "Collecting matplotlib\n",
      "  Using cached matplotlib-3.8.3-cp311-cp311-manylinux_2_17_x86_64.manylinux2014_x86_64.whl.metadata (5.8 kB)\n",
      "Collecting contourpy>=1.0.1 (from matplotlib)\n",
      "  Using cached contourpy-1.2.0-cp311-cp311-manylinux_2_17_x86_64.manylinux2014_x86_64.whl.metadata (5.8 kB)\n",
      "Collecting cycler>=0.10 (from matplotlib)\n",
      "  Using cached cycler-0.12.1-py3-none-any.whl.metadata (3.8 kB)\n",
      "Collecting fonttools>=4.22.0 (from matplotlib)\n",
      "  Using cached fonttools-4.49.0-cp311-cp311-manylinux_2_17_x86_64.manylinux2014_x86_64.whl.metadata (159 kB)\n",
      "Collecting kiwisolver>=1.3.1 (from matplotlib)\n",
      "  Using cached kiwisolver-1.4.5-cp311-cp311-manylinux_2_17_x86_64.manylinux2014_x86_64.whl.metadata (6.4 kB)\n",
      "Requirement already satisfied: numpy<2,>=1.21 in /home/bigdeal/anaconda3/envs/wvad/lib/python3.11/site-packages (from matplotlib) (1.26.4)\n",
      "Requirement already satisfied: packaging>=20.0 in /home/bigdeal/anaconda3/envs/wvad/lib/python3.11/site-packages (from matplotlib) (23.2)\n",
      "Requirement already satisfied: pillow>=8 in /home/bigdeal/anaconda3/envs/wvad/lib/python3.11/site-packages (from matplotlib) (9.4.0)\n",
      "Collecting pyparsing>=2.3.1 (from matplotlib)\n",
      "  Using cached pyparsing-3.1.1-py3-none-any.whl.metadata (5.1 kB)\n",
      "Requirement already satisfied: python-dateutil>=2.7 in /home/bigdeal/anaconda3/envs/wvad/lib/python3.11/site-packages (from matplotlib) (2.9.0)\n",
      "Requirement already satisfied: six>=1.5 in /home/bigdeal/anaconda3/envs/wvad/lib/python3.11/site-packages (from python-dateutil>=2.7->matplotlib) (1.16.0)\n",
      "Using cached matplotlib-3.8.3-cp311-cp311-manylinux_2_17_x86_64.manylinux2014_x86_64.whl (11.6 MB)\n",
      "Using cached contourpy-1.2.0-cp311-cp311-manylinux_2_17_x86_64.manylinux2014_x86_64.whl (313 kB)\n",
      "Using cached cycler-0.12.1-py3-none-any.whl (8.3 kB)\n",
      "Using cached fonttools-4.49.0-cp311-cp311-manylinux_2_17_x86_64.manylinux2014_x86_64.whl (4.9 MB)\n",
      "Using cached kiwisolver-1.4.5-cp311-cp311-manylinux_2_17_x86_64.manylinux2014_x86_64.whl (1.4 MB)\n",
      "Using cached pyparsing-3.1.1-py3-none-any.whl (103 kB)\n",
      "Installing collected packages: pyparsing, kiwisolver, fonttools, cycler, contourpy, matplotlib\n",
      "Successfully installed contourpy-1.2.0 cycler-0.12.1 fonttools-4.49.0 kiwisolver-1.4.5 matplotlib-3.8.3 pyparsing-3.1.1\n"
     ]
    }
   ],
   "source": [
    "!pip install matplotlib"
   ]
  },
  {
   "cell_type": "code",
   "execution_count": 17,
   "metadata": {},
   "outputs": [
    {
     "name": "stdout",
     "output_type": "stream",
     "text": [
      "[ True  True  True ... False False False]\n",
      "2330384\n"
     ]
    }
   ],
   "source": [
    "import numpy as np\n",
    "import matplotlib.pyplot as plt\n",
    "from collections import Counter\n",
    "\n",
    "# .npy 파일의 경로를 지정합니다.\n",
    "file_path = 'frame_label/xd_anomaly_mask.npy'\n",
    "\n",
    "# 파일 로드\n",
    "data = np.load(file_path)\n",
    "\n",
    "# 데이터 출력\n",
    "print(data)\n",
    "\n",
    "print(len(data))"
   ]
  },
  {
   "cell_type": "code",
   "execution_count": 20,
   "metadata": {},
   "outputs": [
    {
     "name": "stdout",
     "output_type": "stream",
     "text": [
      "요소 True: 빈도 1078016\n",
      "요소 False: 빈도 1252368\n"
     ]
    }
   ],
   "source": [
    "# Counter 객체 생성\n",
    "element_counts = Counter(data)\n",
    "\n",
    "# 요소 종류 및 빈도 출력\n",
    "for element, count in element_counts.items():\n",
    "    print(f\"요소 {element}: 빈도 {count}\")"
   ]
  },
  {
   "cell_type": "code",
   "execution_count": 22,
   "metadata": {},
   "outputs": [
    {
     "name": "stdout",
     "output_type": "stream",
     "text": [
      "[0. 0. 0. ... 0. 0. 0.]\n",
      "2330384\n"
     ]
    }
   ],
   "source": [
    "import numpy as np\n",
    "\n",
    "# .npy 파일의 경로를 지정합니다.\n",
    "file_path = 'frame_label/xd_gt.npy'\n",
    "\n",
    "# 파일 로드\n",
    "data = np.load(file_path)\n",
    "\n",
    "# 데이터 출력\n",
    "print(data)\n",
    "print(len(data))"
   ]
  },
  {
   "cell_type": "code",
   "execution_count": 23,
   "metadata": {},
   "outputs": [
    {
     "name": "stdout",
     "output_type": "stream",
     "text": [
      "요소 0.0: 빈도 1792579\n",
      "요소 1.0: 빈도 537805\n"
     ]
    }
   ],
   "source": [
    "# Counter 객체 생성\n",
    "element_counts = Counter(data)\n",
    "\n",
    "# 요소 종류 및 빈도 출력\n",
    "for element, count in element_counts.items():\n",
    "    print(f\"요소 {element}: 빈도 {count}\")"
   ]
  },
  {
   "cell_type": "code",
   "execution_count": 29,
   "metadata": {},
   "outputs": [
    {
     "name": "stdout",
     "output_type": "stream",
     "text": [
      "차원: (360, 1024)\n",
      "전체 요소 개수: 368640\n"
     ]
    }
   ],
   "source": [
    "import numpy as np\n",
    "\n",
    "# .npy 파일의 경로를 지정합니다.\n",
    "file_path = 'i3d-features/i3d-features/test/A.Beautiful.Mind.2001__#00-25-20_00-29-20_label_A__0.npy'\n",
    "\n",
    "# 파일 로드\n",
    "data = np.load(file_path)\n",
    "\n",
    "# 데이터 출력\n",
    "dimensions = data.shape\n",
    "print(f\"차원: {dimensions}\")\n",
    "total_elements = np.size(data)\n",
    "print(f\"전체 요소 개수: {total_elements}\")\n"
   ]
  },
  {
   "cell_type": "markdown",
   "metadata": {},
   "source": [
    "## 파일명 분석: i3d-features/i3d-features/test/A.Beautiful.Mind.2001__#00-25-20_00-29-20_label_A__0.npy\n",
    "\n",
    "**1. 파일 구조**\n",
    "\n",
    "파일명은 다음과 같은 구조로 구성됩니다.\n",
    "\n",
    "- **폴더:**\n",
    "    - `i3d-features`: i3D 모델 학습에 사용된 특징 추출 결과를 저장하는 폴더\n",
    "    - `test`: 테스트 데이터 폴더\n",
    "\n",
    "- **파일명:**\n",
    "    - `A.Beautiful.Mind.2001`: 영화 제목\n",
    "    - `__#00-25-20_00-29-20`: 영상 시작 시간과 종료 시간 (HH:MM:SS 형식)\n",
    "    - `_label_A`: 레이블 (A는 '정상'을 의미하는 예시)\n",
    "    - `__0`: 동일한 영상에서 추출된 여러 특징 중 하나를 나타내는 고유 번호\n",
    "\n",
    "**2. 의미 해석**\n",
    "\n",
    "- 파일은 영화 \"A.Beautiful.Mind.2001\"의 25분 20초부터 29분 20초까지 영상의 특징을 저장합니다.\n",
    "- `_label_A`는 영상이 '정상'으로 분류되었음을 나타냅니다.\n",
    "- `__0`는 동일한 영상에서 추출된 여러 특징 중 첫 번째 특징임을 나타냅니다.\n",
    "\n",
    "**3. 추가 정보**\n",
    "\n",
    "- i3D 모델은 영상 분류 및 액션 인식 등에 사용되는 인공지능 모델입니다.\n",
    "- 특징 추출 과정은 영상을 벡터화하여 모델 학습에 사용할 수 있는 데이터로 변환하는 과정입니다.\n",
    "- 레이블은 영상의 정상/비정상 여부, 액션 유형 등을 나타내는 범주입니다.\n",
    "\n",
    "**4. 활용**\n",
    "\n",
    "- 영상 분석 및 분류\n",
    "- 액션 인식\n",
    "- 인공지능 모델 학습\n",
    "\n",
    "**5. 참고자료**\n",
    "\n",
    "- i3D 모델: [유효하지 않은 URL 삭제됨]\n",
    "- 영상 특징 추출: [https://www.tensorflow.org/tutorials/images/cnn](https://www.tensorflow.org/tutorials/images/cnn)\n",
    "\n"
   ]
  },
  {
   "cell_type": "markdown",
   "metadata": {},
   "source": [
    "## i3D 특징 추출 결과 분석: 차원 이해하기\n",
    "\n",
    "**1. 차원 분석**\n",
    "\n",
    "- **첫 번째 차원 (360):**\n",
    "\n",
    "    - 360개의 프레임으로 구성된 영상의 특징을 나타냅니다.\n",
    "    - 각 프레임은 1024개의 특징 벡터로 표현됩니다.\n",
    "\n",
    "- **두 번째 차원 (1024):**\n",
    "\n",
    "    - 각 프레임을 표현하는 1024개의 특징 벡터를 나타냅니다.\n",
    "    - 각 특징 벡터는 영상의 다양한 특징을 나타냅니다.\n",
    "\n",
    "**2. 특징 벡터 분석**\n",
    "\n",
    "- i3D 모델은 영상을 3D 컨볼루션 레이어를 통해 분석하여 각 프레임의 특징 벡터를 추출합니다.\n",
    "- 각 특징 벡터는 다음과 같은 정보를 포함합니다.\n",
    "\n",
    "    - 영상의 질감\n",
    "    - 색상\n",
    "    - 모션\n",
    "    - 객체\n",
    "    - 장면\n",
    "\n",
    "**3. 특징 벡터 활용**\n",
    "\n",
    "- 추출된 특징 벡터는 영상 분류, 액션 인식, 이상 탐지 등 다양한 분야에 활용될 수 있습니다.\n",
    "\n",
    "**4. 참고자료**\n",
    "\n",
    "- i3D 모델: [유효하지 않은 URL 삭제됨]\n",
    "- 영상 특징 추출: [https://www.tensorflow.org/tutorials/images/cnn](https://www.tensorflow.org/tutorials/images/cnn)\n",
    "\n",
    "**5. 추가 분석**\n",
    "\n",
    "- 특정 프레임의 특징 벡터를 시각화하여 분석\n",
    "- 특징 벡터 간의 상관관계 분석\n",
    "- 특징 벡터를 사용하여 영상 분류 모델 학습\n",
    "\n",
    "**6. 시각화 예시**\n",
    "\n",
    "```python\n",
    "# 특정 프레임의 특징 벡터 시각화\n",
    "\n",
    "import matplotlib.pyplot as plt\n",
    "\n",
    "frame_index = 100\n",
    "\n",
    "plt.plot(data[frame_index])\n",
    "plt.xlabel(\"특징 벡터 인덱스\")\n",
    "plt.ylabel(\"특징 값\")\n",
    "plt.title(f\"프레임 {frame_index}의 특징 벡터\")\n",
    "plt.show()\n",
    "```\n",
    "\n",
    "**7. 활용 예시**\n",
    "\n",
    "```python\n",
    "# 특징 벡터를 사용하여 영상 분류 모델 학습\n",
    "\n",
    "from sklearn.svm import SVC\n",
    "\n",
    "# 학습 데이터 준비\n",
    "X_train = data_train\n",
    "y_train = labels_train\n",
    "\n",
    "# 모델 학습\n",
    "clf = SVC()\n",
    "clf.fit(X_train, y_train)\n",
    "\n",
    "# 테스트 데이터 예측\n",
    "X_test = data_test\n",
    "y_pred = clf.predict(X_test)\n",
    "\n",
    "# 정확도 평가\n",
    "accuracy = accuracy_score(y_test, y_pred)\n",
    "\n",
    "print(f\"정확도: {accuracy}\")\n",
    "```\n",
    "\n",
    "**8. 주의 사항**\n",
    "\n",
    "- 특징 벡터의 의미는 모델 학습 방식 및 데이터에 따라 달라질 수 있습니다.\n",
    "- 특징 벡터를 분석하기 전에 모델 학습 방식 및 데이터 특성을 이해해야 합니다."
   ]
  },
  {
   "cell_type": "code",
   "execution_count": null,
   "metadata": {},
   "outputs": [],
   "source": []
  }
 ],
 "metadata": {
  "kernelspec": {
   "display_name": "wvad",
   "language": "python",
   "name": "python3"
  },
  "language_info": {
   "codemirror_mode": {
    "name": "ipython",
    "version": 3
   },
   "file_extension": ".py",
   "mimetype": "text/x-python",
   "name": "python",
   "nbconvert_exporter": "python",
   "pygments_lexer": "ipython3",
   "version": "3.11.8"
  }
 },
 "nbformat": 4,
 "nbformat_minor": 2
}
