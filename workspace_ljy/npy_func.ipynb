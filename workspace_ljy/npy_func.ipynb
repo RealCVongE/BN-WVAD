{
 "cells": [
  {
   "cell_type": "code",
   "execution_count": 1,
   "metadata": {},
   "outputs": [],
   "source": [
    "norm_i3d = '/home/bigdeal/mnt2/238-1.실내(편의점,_매장)_사람_구매행동_데이터/PreProcessToNPY/01.원천데이터/normal/i3d'\n",
    "norm_val = '/home/bigdeal/mnt2/238-1.실내(편의점,_매장)_사람_구매행동_데이터/PreProcessToNPY/01.원천데이터/normal/valid/i3d'\n",
    "abnorm_i3d = '/home/bigdeal/mnt2/238-1.실내(편의점,_매장)_사람_구매행동_데이터/PreProcessToNPY/01.원천데이터/anormal/i3d'\n",
    "abnorm_val = '/home/bigdeal/mnt2/238-1.실내(편의점,_매장)_사람_구매행동_데이터/PreProcessToNPY/01.원천데이터/anormal/valid/i3d'"
   ]
  },
  {
   "cell_type": "code",
   "execution_count": 4,
   "metadata": {},
   "outputs": [],
   "source": [
    "import os\n",
    "import numpy as np\n",
    "\n",
    "name_shape = []\n",
    "folder_path = norm_i3d\n",
    "# 해당 폴더에 있는 모든 파일들의 이름과 크기를 출력\n",
    "for filename in os.listdir(folder_path):\n",
    "    file_path = os.path.join(folder_path, filename)  # 파일의 전체 경로\n",
    "    if os.path.isfile(file_path):  # 파일이 맞는지 확인\n",
    "        data = np.load(file_path)\n",
    "        name_shape.append((data.shape, file_path))"
   ]
  },
  {
   "cell_type": "code",
   "execution_count": 5,
   "metadata": {},
   "outputs": [
    {
     "data": {
      "text/plain": [
       "4959"
      ]
     },
     "execution_count": 5,
     "metadata": {},
     "output_type": "execute_result"
    }
   ],
   "source": [
    "len(name_shape)"
   ]
  },
  {
   "cell_type": "code",
   "execution_count": 6,
   "metadata": {},
   "outputs": [
    {
     "name": "stdout",
     "output_type": "stream",
     "text": [
      "4150\n",
      "809\n"
     ]
    }
   ],
   "source": [
    "count_37 = 0\n",
    "count_56 = 0\n",
    "for shape, name in name_shape :\n",
    "    if shape ==(37,1024) :\n",
    "        count_37 += 1 \n",
    "    elif shape == (56,1024):\n",
    "        count_56 += 1\n",
    "    else : print(shape, name)\n",
    "\n",
    "print(count_37)\n",
    "print(count_56)"
   ]
  },
  {
   "cell_type": "code",
   "execution_count": null,
   "metadata": {},
   "outputs": [],
   "source": []
  }
 ],
 "metadata": {
  "kernelspec": {
   "display_name": "wvad",
   "language": "python",
   "name": "python3"
  },
  "language_info": {
   "codemirror_mode": {
    "name": "ipython",
    "version": 3
   },
   "file_extension": ".py",
   "mimetype": "text/x-python",
   "name": "python",
   "nbconvert_exporter": "python",
   "pygments_lexer": "ipython3",
   "version": "3.1.undefined"
  }
 },
 "nbformat": 4,
 "nbformat_minor": 2
}
