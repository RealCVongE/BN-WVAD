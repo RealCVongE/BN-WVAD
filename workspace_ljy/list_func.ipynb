{
 "cells": [
  {
   "cell_type": "code",
   "execution_count": null,
   "metadata": {},
   "outputs": [],
   "source": [
    "import os\n",
    "import re\n",
    "\n",
    "# 리스트 파일 경로\n",
    "list_train_path = \"/home/bigdeal/mnt2/BN-WVAD/list/my_train.list\"\n",
    "list_test_path = \"/home/bigdeal/mnt2/BN-WVAD/list/my_test.list\"\n",
    "txt_train_path = \"/home/bigdeal/mnt2/BN-WVAD/list/my_train.txt\"\n",
    "txt_test_path = \"/home/bigdeal/mnt2/BN-WVAD/list/my_test.txt\"\n",
    "npy_normal_train_path = \"/home/bigdeal/mnt2/238-1.실내(편의점,_매장)_사람_구매행동_데이터/PreProcessToNPY/01.원천데이터/normal/i3d\"\n",
    "npy_normal_test_path = \"/home/bigdeal/mnt2/238-1.실내(편의점,_매장)_사람_구매행동_데이터/PreProcessToNPY/01.원천데이터/normal/valid/i3d\"\n",
    "npy_abnor_train_path = \"/home/bigdeal/mnt2/238-1.실내(편의점,_매장)_사람_구매행동_데이터/PreProcessToNPY/01.원천데이터/i3d\"\n",
    "npy_abnor_test_path = \"/home/bigdeal/mnt2/238-1.실내(편의점,_매장)_사람_구매행동_데이터/PreProcessToNPY/01.원천데이터/valid/i3d\""
   ]
  },
  {
   "cell_type": "code",
   "execution_count": null,
   "metadata": {},
   "outputs": [],
   "source": [
    "def extract_path(file, path):\n",
    "    for filename in os.listdir(path):\n",
    "        file_path = os.path.join(path, filename)  # 파일의 전체 경로\n",
    "        if os.path.isfile(file_path):  # 파일이 맞는지 확인\n",
    "            file.append(file_path)\n",
    "\n",
    "    return file"
   ]
  },
  {
   "cell_type": "code",
   "execution_count": null,
   "metadata": {},
   "outputs": [],
   "source": [
    "def make_list(file, path):\n",
    "    with open(path, \"w\") as f:\n",
    "        for item in file:\n",
    "            f.write(\"%s\\n\" % item)"
   ]
  },
  {
   "cell_type": "code",
   "execution_count": null,
   "metadata": {},
   "outputs": [],
   "source": [
    "list_file_path = list_train_path\n",
    "txt_file_path = txt_train_path\n",
    "# .list 파일을 읽고 .txt 파일로 쓰기\n",
    "with open(list_file_path, 'r') as list_file:\n",
    "    content = list_file.read()  # .list 파일의 모든 내용을 읽음\n",
    "\n",
    "with open(txt_file_path, 'w') as txt_file:\n",
    "    txt_file.write(content)  # 읽은 내용을 .txt 파일에 쓰기"
   ]
  }
 ],
 "metadata": {
  "language_info": {
   "name": "python"
  }
 },
 "nbformat": 4,
 "nbformat_minor": 2
}
