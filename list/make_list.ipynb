{
 "cells": [
  {
   "cell_type": "code",
   "execution_count": 11,
   "metadata": {},
   "outputs": [
    {
     "name": "stdout",
     "output_type": "stream",
     "text": [
      "16100개의 파일 이름이 리스트 파일에 추가되었습니다.\n"
     ]
    }
   ],
   "source": [
    "import os\n",
    "\n",
    "# 리스트 파일 경로\n",
    "list_file_path = \"ucf-i3d-train.list\"\n",
    "\n",
    "# 리스트 파일 경로\n",
    "def update_file_name(file_name, original_index, new_index):\n",
    "    \"\"\"파일 이름의 마지막 숫자를 변경합니다.\"\"\"\n",
    "    parts = file_name.split('_x264__')  # '_x264__'를 기준으로 파일 이름을 분리\n",
    "    file_name_prefix = parts[0]\n",
    "    updated_file_name = file_name_prefix + '_x264__' + f'{new_index:01}.npy\\n'\n",
    "    return updated_file_name\n",
    "\n",
    "# # 각 파일 이름에 대해 0에서 9까지 숫자를 추가하여 새로운 파일 이름 목록 생성\n",
    "\n",
    "\n",
    "# 리스트 파일 읽기\n",
    "with open(list_file_path, \"r\") as f:\n",
    "    file_names = f.readlines()\n",
    "\n",
    "# 각 파일 이름에 대해 0에서 9까지 숫자를 추가하여 새로운 파일 이름 목록 생성\n",
    "new_file_names = []\n",
    "for file_name in file_names:\n",
    "    # 파일 이름의 마지막 숫자 추출\n",
    "    original_index = int(file_name.split(\"_\")[-1].split(\".\")[0])\n",
    "\n",
    "    # 0에서 9까지 숫자를 추가하여 새로운 파일 이름 목록 생성\n",
    "    for i in range(10):\n",
    "        new_file_name = update_file_name(file_name, original_index, i)\n",
    "        new_file_names.append(new_file_name) \n",
    "\n",
    "# 새로운 파일 이름 목록으로 리스트 파일 덮어쓰기\n",
    "with open(list_file_path, \"w\") as f:\n",
    "    f.writelines(new_file_names)\n",
    "\n",
    "# 결과 출력\n",
    "print(f\"{len(new_file_names)}개의 파일 이름이 리스트 파일에 추가되었습니다.\")\n",
    "\n"
   ]
  },
  {
   "cell_type": "code",
   "execution_count": null,
   "metadata": {},
   "outputs": [],
   "source": [
    "new_file_names = []\n",
    "# for file_name in file_names:\n",
    "file_name= \"test/RGB/Abuse/Abuse030_x264__0.npy\"\n",
    "# 파일 이름의 마지막 숫자 추출\n",
    "original_index = int(file_name.split(\"_\")[-1].split(\".\")[0])\n",
    "print(original_index)\n",
    "# 0에서 9까지 숫자를 추가하여 새로운 파일 이름 목록 생성\n",
    "for i in range(10):\n",
    "    new_file_name = update_file_name(file_name, original_index, i)\n",
    "    new_file_names.append(new_file_name) \n",
    "print(new_file_names)"
   ]
  },
  {
   "cell_type": "code",
   "execution_count": 33,
   "metadata": {},
   "outputs": [
    {
     "name": "stdout",
     "output_type": "stream",
     "text": [
      "['test/RGB/Abuse/Abuse028_x264__0.npy\\n', 'test/RGB/Abuse/Abuse030_x264__0.npy\\n', 'test/RGB/Arrest/Arrest001_x264__0.npy\\n', 'test/RGB/Arrest/Arrest007_x264__0.npy\\n', 'test/RGB/Arrest/Arrest024_x264__0.npy\\n', 'test/RGB/Arrest/Arrest030_x264__0.npy\\n', 'test/RGB/Arrest/Arrest039_x264__0.npy\\n', 'test/RGB/Arson/Arson007_x264__0.npy\\n', 'test/RGB/Arson/Arson009_x264__0.npy\\n', 'test/RGB/Arson/Arson010_x264__0.npy\\n', 'test/RGB/Arson/Arson011_x264__0.npy\\n', 'test/RGB/Arson/Arson016_x264__0.npy\\n', 'test/RGB/Arson/Arson018_x264__0.npy\\n', 'test/RGB/Arson/Arson022_x264__0.npy\\n', 'test/RGB/Arson/Arson035_x264__0.npy\\n', 'test/RGB/Arson/Arson041_x264__0.npy\\n', 'test/RGB/Assault/Assault006_x264__0.npy\\n', 'test/RGB/Assault/Assault010_x264__0.npy\\n', 'test/RGB/Assault/Assault011_x264__0.npy\\n', 'test/RGB/Burglary/Burglary005_x264__0.npy\\n', 'test/RGB/Burglary/Burglary017_x264__0.npy\\n', 'test/RGB/Burglary/Burglary018_x264__0.npy\\n', 'test/RGB/Burglary/Burglary021_x264__0.npy\\n', 'test/RGB/Burglary/Burglary024_x264__0.npy\\n', 'test/RGB/Burglary/Burglary032_x264__0.npy\\n', 'test/RGB/Burglary/Burglary033_x264__0.npy\\n', 'test/RGB/Burglary/Burglary035_x264__0.npy\\n', 'test/RGB/Burglary/Burglary037_x264__0.npy\\n', 'test/RGB/Burglary/Burglary061_x264__0.npy\\n', 'test/RGB/Burglary/Burglary076_x264__0.npy\\n', 'test/RGB/Burglary/Burglary079_x264__0.npy\\n', 'test/RGB/Burglary/Burglary092_x264__0.npy\\n', 'test/RGB/Explosion/Explosion002_x264__0.npy\\n', 'test/RGB/Explosion/Explosion004_x264__0.npy\\n', 'test/RGB/Explosion/Explosion007_x264__0.npy\\n', 'test/RGB/Explosion/Explosion008_x264__0.npy\\n', 'test/RGB/Explosion/Explosion010_x264__0.npy\\n', 'test/RGB/Explosion/Explosion011_x264__0.npy\\n', 'test/RGB/Explosion/Explosion013_x264__0.npy\\n', 'test/RGB/Explosion/Explosion016_x264__0.npy\\n', 'test/RGB/Explosion/Explosion017_x264__0.npy\\n', 'test/RGB/Explosion/Explosion020_x264__0.npy\\n', 'test/RGB/Explosion/Explosion021_x264__0.npy\\n', 'test/RGB/Explosion/Explosion022_x264__0.npy\\n', 'test/RGB/Explosion/Explosion025_x264__0.npy\\n', 'test/RGB/Explosion/Explosion027_x264__0.npy\\n', 'test/RGB/Explosion/Explosion028_x264__0.npy\\n', 'test/RGB/Explosion/Explosion029_x264__0.npy\\n', 'test/RGB/Explosion/Explosion033_x264__0.npy\\n', 'test/RGB/Explosion/Explosion035_x264__0.npy\\n', 'test/RGB/Explosion/Explosion036_x264__0.npy\\n', 'test/RGB/Explosion/Explosion039_x264__0.npy\\n', 'test/RGB/Explosion/Explosion043_x264__0.npy\\n', 'test/RGB/Fighting/Fighting003_x264__0.npy\\n', 'test/RGB/Fighting/Fighting018_x264__0.npy\\n', 'test/RGB/Fighting/Fighting033_x264__0.npy\\n', 'test/RGB/Fighting/Fighting042_x264__0.npy\\n', 'test/RGB/Fighting/Fighting047_x264__0.npy\\n', 'test/RGB/RoadAccidents/RoadAccidents001_x264__0.npy\\n', 'test/RGB/RoadAccidents/RoadAccidents002_x264__0.npy\\n', 'test/RGB/RoadAccidents/RoadAccidents004_x264__0.npy\\n', 'test/RGB/RoadAccidents/RoadAccidents009_x264__0.npy\\n', 'test/RGB/RoadAccidents/RoadAccidents010_x264__0.npy\\n', 'test/RGB/RoadAccidents/RoadAccidents011_x264__0.npy\\n', 'test/RGB/RoadAccidents/RoadAccidents012_x264__0.npy\\n', 'test/RGB/RoadAccidents/RoadAccidents016_x264__0.npy\\n', 'test/RGB/RoadAccidents/RoadAccidents017_x264__0.npy\\n', 'test/RGB/RoadAccidents/RoadAccidents019_x264__0.npy\\n', 'test/RGB/RoadAccidents/RoadAccidents020_x264__0.npy\\n', 'test/RGB/RoadAccidents/RoadAccidents021_x264__0.npy\\n', 'test/RGB/RoadAccidents/RoadAccidents022_x264__0.npy\\n', 'test/RGB/RoadAccidents/RoadAccidents121_x264__0.npy\\n', 'test/RGB/RoadAccidents/RoadAccidents122_x264__0.npy\\n', 'test/RGB/RoadAccidents/RoadAccidents123_x264__0.npy\\n', 'test/RGB/RoadAccidents/RoadAccidents124_x264__0.npy\\n', 'test/RGB/RoadAccidents/RoadAccidents125_x264__0.npy\\n', 'test/RGB/RoadAccidents/RoadAccidents127_x264__0.npy\\n', 'test/RGB/RoadAccidents/RoadAccidents128_x264__0.npy\\n', 'test/RGB/RoadAccidents/RoadAccidents131_x264__0.npy\\n', 'test/RGB/RoadAccidents/RoadAccidents132_x264__0.npy\\n', 'test/RGB/RoadAccidents/RoadAccidents133_x264__0.npy\\n', 'test/RGB/Robbery/Robbery048_x264__0.npy\\n', 'test/RGB/Robbery/Robbery050_x264__0.npy\\n', 'test/RGB/Robbery/Robbery102_x264__0.npy\\n', 'test/RGB/Robbery/Robbery106_x264__0.npy\\n', 'test/RGB/Robbery/Robbery137_x264__0.npy\\n', 'test/RGB/Shooting/Shooting002_x264__0.npy\\n', 'test/RGB/Shooting/Shooting004_x264__0.npy\\n', 'test/RGB/Shooting/Shooting007_x264__0.npy\\n', 'test/RGB/Shooting/Shooting008_x264__0.npy\\n', 'test/RGB/Shooting/Shooting010_x264__0.npy\\n', 'test/RGB/Shooting/Shooting011_x264__0.npy\\n', 'test/RGB/Shooting/Shooting013_x264__0.npy\\n', 'test/RGB/Shooting/Shooting015_x264__0.npy\\n', 'test/RGB/Shooting/Shooting018_x264__0.npy\\n', 'test/RGB/Shooting/Shooting019_x264__0.npy\\n', 'test/RGB/Shooting/Shooting021_x264__0.npy\\n', 'test/RGB/Shooting/Shooting022_x264__0.npy\\n', 'test/RGB/Shooting/Shooting024_x264__0.npy\\n', 'test/RGB/Shooting/Shooting026_x264__0.npy\\n', 'test/RGB/Shooting/Shooting028_x264__0.npy\\n', 'test/RGB/Shooting/Shooting032_x264__0.npy\\n', 'test/RGB/Shooting/Shooting033_x264__0.npy\\n', 'test/RGB/Shooting/Shooting034_x264__0.npy\\n', 'test/RGB/Shooting/Shooting037_x264__0.npy\\n', 'test/RGB/Shooting/Shooting043_x264__0.npy\\n', 'test/RGB/Shooting/Shooting046_x264__0.npy\\n', 'test/RGB/Shooting/Shooting047_x264__0.npy\\n', 'test/RGB/Shooting/Shooting048_x264__0.npy\\n', 'test/RGB/Shoplifting/Shoplifting001_x264__0.npy\\n', 'test/RGB/Shoplifting/Shoplifting004_x264__0.npy\\n', 'test/RGB/Shoplifting/Shoplifting005_x264__0.npy\\n', 'test/RGB/Shoplifting/Shoplifting007_x264__0.npy\\n', 'test/RGB/Shoplifting/Shoplifting010_x264__0.npy\\n', 'test/RGB/Shoplifting/Shoplifting015_x264__0.npy\\n', 'test/RGB/Shoplifting/Shoplifting016_x264__0.npy\\n', 'test/RGB/Shoplifting/Shoplifting017_x264__0.npy\\n', 'test/RGB/Shoplifting/Shoplifting020_x264__0.npy\\n', 'test/RGB/Shoplifting/Shoplifting021_x264__0.npy\\n', 'test/RGB/Shoplifting/Shoplifting022_x264__0.npy\\n', 'test/RGB/Shoplifting/Shoplifting027_x264__0.npy\\n', 'test/RGB/Shoplifting/Shoplifting028_x264__0.npy\\n', 'test/RGB/Shoplifting/Shoplifting029_x264__0.npy\\n', 'test/RGB/Shoplifting/Shoplifting031_x264__0.npy\\n', 'test/RGB/Shoplifting/Shoplifting033_x264__0.npy\\n', 'test/RGB/Shoplifting/Shoplifting034_x264__0.npy\\n', 'test/RGB/Shoplifting/Shoplifting037_x264__0.npy\\n', 'test/RGB/Shoplifting/Shoplifting039_x264__0.npy\\n', 'test/RGB/Shoplifting/Shoplifting044_x264__0.npy\\n', 'test/RGB/Shoplifting/Shoplifting049_x264__0.npy\\n', 'test/RGB/Stealing/Stealing019_x264__0.npy\\n', 'test/RGB/Stealing/Stealing036_x264__0.npy\\n', 'test/RGB/Stealing/Stealing058_x264__0.npy\\n', 'test/RGB/Stealing/Stealing062_x264__0.npy\\n', 'test/RGB/Stealing/Stealing079_x264__0.npy\\n', 'test/RGB/Vandalism/Vandalism007_x264__0.npy\\n', 'test/RGB/Vandalism/Vandalism015_x264__0.npy\\n', 'test/RGB/Vandalism/Vandalism017_x264__0.npy\\n', 'test/RGB/Vandalism/Vandalism028_x264__0.npy\\n', 'test/RGB/Vandalism/Vandalism036_x264__0.npy\\n', 'test/RGB/Testing_Normal_Videos_Anomaly/Normal_Videos_003_x264__0.npy\\n', 'test/RGB/Testing_Normal_Videos_Anomaly/Normal_Videos_006_x264__0.npy\\n', 'test/RGB/Testing_Normal_Videos_Anomaly/Normal_Videos_010_x264__0.npy\\n', 'test/RGB/Testing_Normal_Videos_Anomaly/Normal_Videos_014_x264__0.npy\\n', 'test/RGB/Testing_Normal_Videos_Anomaly/Normal_Videos_015_x264__0.npy\\n', 'test/RGB/Testing_Normal_Videos_Anomaly/Normal_Videos_018_x264__0.npy\\n', 'test/RGB/Testing_Normal_Videos_Anomaly/Normal_Videos_019_x264__0.npy\\n', 'test/RGB/Testing_Normal_Videos_Anomaly/Normal_Videos_024_x264__0.npy\\n', 'test/RGB/Testing_Normal_Videos_Anomaly/Normal_Videos_025_x264__0.npy\\n', 'test/RGB/Testing_Normal_Videos_Anomaly/Normal_Videos_027_x264__0.npy\\n', 'test/RGB/Testing_Normal_Videos_Anomaly/Normal_Videos_033_x264__0.npy\\n', 'test/RGB/Testing_Normal_Videos_Anomaly/Normal_Videos_034_x264__0.npy\\n', 'test/RGB/Testing_Normal_Videos_Anomaly/Normal_Videos_041_x264__0.npy\\n', 'test/RGB/Testing_Normal_Videos_Anomaly/Normal_Videos_042_x264__0.npy\\n', 'test/RGB/Testing_Normal_Videos_Anomaly/Normal_Videos_048_x264__0.npy\\n', 'test/RGB/Testing_Normal_Videos_Anomaly/Normal_Videos_050_x264__0.npy\\n', 'test/RGB/Testing_Normal_Videos_Anomaly/Normal_Videos_051_x264__0.npy\\n', 'test/RGB/Testing_Normal_Videos_Anomaly/Normal_Videos_056_x264__0.npy\\n', 'test/RGB/Testing_Normal_Videos_Anomaly/Normal_Videos_059_x264__0.npy\\n', 'test/RGB/Testing_Normal_Videos_Anomaly/Normal_Videos_063_x264__0.npy\\n', 'test/RGB/Testing_Normal_Videos_Anomaly/Normal_Videos_067_x264__0.npy\\n', 'test/RGB/Testing_Normal_Videos_Anomaly/Normal_Videos_070_x264__0.npy\\n', 'test/RGB/Testing_Normal_Videos_Anomaly/Normal_Videos_100_x264__0.npy\\n', 'test/RGB/Testing_Normal_Videos_Anomaly/Normal_Videos_129_x264__0.npy\\n', 'test/RGB/Testing_Normal_Videos_Anomaly/Normal_Videos_150_x264__0.npy\\n', 'test/RGB/Testing_Normal_Videos_Anomaly/Normal_Videos_168_x264__0.npy\\n', 'test/RGB/Testing_Normal_Videos_Anomaly/Normal_Videos_175_x264__0.npy\\n', 'test/RGB/Testing_Normal_Videos_Anomaly/Normal_Videos_182_x264__0.npy\\n', 'test/RGB/Testing_Normal_Videos_Anomaly/Normal_Videos_189_x264__0.npy\\n', 'test/RGB/Testing_Normal_Videos_Anomaly/Normal_Videos_196_x264__0.npy\\n', 'test/RGB/Testing_Normal_Videos_Anomaly/Normal_Videos_203_x264__0.npy\\n', 'test/RGB/Testing_Normal_Videos_Anomaly/Normal_Videos_210_x264__0.npy\\n', 'test/RGB/Testing_Normal_Videos_Anomaly/Normal_Videos_217_x264__0.npy\\n', 'test/RGB/Testing_Normal_Videos_Anomaly/Normal_Videos_224_x264__0.npy\\n', 'test/RGB/Testing_Normal_Videos_Anomaly/Normal_Videos_246_x264__0.npy\\n', 'test/RGB/Testing_Normal_Videos_Anomaly/Normal_Videos_247_x264__0.npy\\n', 'test/RGB/Testing_Normal_Videos_Anomaly/Normal_Videos_248_x264__0.npy\\n', 'test/RGB/Testing_Normal_Videos_Anomaly/Normal_Videos_251_x264__0.npy\\n', 'test/RGB/Testing_Normal_Videos_Anomaly/Normal_Videos_289_x264__0.npy\\n', 'test/RGB/Testing_Normal_Videos_Anomaly/Normal_Videos_310_x264__0.npy\\n', 'test/RGB/Testing_Normal_Videos_Anomaly/Normal_Videos_312_x264__0.npy\\n', 'test/RGB/Testing_Normal_Videos_Anomaly/Normal_Videos_317_x264__0.npy\\n', 'test/RGB/Testing_Normal_Videos_Anomaly/Normal_Videos_345_x264__0.npy\\n', 'test/RGB/Testing_Normal_Videos_Anomaly/Normal_Videos_352_x264__0.npy\\n', 'test/RGB/Testing_Normal_Videos_Anomaly/Normal_Videos_360_x264__0.npy\\n', 'test/RGB/Testing_Normal_Videos_Anomaly/Normal_Videos_365_x264__0.npy\\n', 'test/RGB/Testing_Normal_Videos_Anomaly/Normal_Videos_401_x264__0.npy\\n', 'test/RGB/Testing_Normal_Videos_Anomaly/Normal_Videos_417_x264__0.npy\\n', 'test/RGB/Testing_Normal_Videos_Anomaly/Normal_Videos_439_x264__0.npy\\n', 'test/RGB/Testing_Normal_Videos_Anomaly/Normal_Videos_452_x264__0.npy\\n', 'test/RGB/Testing_Normal_Videos_Anomaly/Normal_Videos_453_x264__0.npy\\n', 'test/RGB/Testing_Normal_Videos_Anomaly/Normal_Videos_478_x264__0.npy\\n', 'test/RGB/Testing_Normal_Videos_Anomaly/Normal_Videos_576_x264__0.npy\\n', 'test/RGB/Testing_Normal_Videos_Anomaly/Normal_Videos_597_x264__0.npy\\n', 'test/RGB/Testing_Normal_Videos_Anomaly/Normal_Videos_603_x264__0.npy\\n', 'test/RGB/Testing_Normal_Videos_Anomaly/Normal_Videos_606_x264__0.npy\\n', 'test/RGB/Testing_Normal_Videos_Anomaly/Normal_Videos_621_x264__0.npy\\n', 'test/RGB/Testing_Normal_Videos_Anomaly/Normal_Videos_634_x264__0.npy\\n', 'test/RGB/Testing_Normal_Videos_Anomaly/Normal_Videos_641_x264__0.npy\\n', 'test/RGB/Testing_Normal_Videos_Anomaly/Normal_Videos_656_x264__0.npy\\n', 'test/RGB/Testing_Normal_Videos_Anomaly/Normal_Videos_686_x264__0.npy\\n', 'test/RGB/Testing_Normal_Videos_Anomaly/Normal_Videos_696_x264__0.npy\\n', 'test/RGB/Testing_Normal_Videos_Anomaly/Normal_Videos_702_x264__0.npy\\n', 'test/RGB/Testing_Normal_Videos_Anomaly/Normal_Videos_704_x264__0.npy\\n', 'test/RGB/Testing_Normal_Videos_Anomaly/Normal_Videos_710_x264__0.npy\\n', 'test/RGB/Testing_Normal_Videos_Anomaly/Normal_Videos_717_x264__0.npy\\n', 'test/RGB/Testing_Normal_Videos_Anomaly/Normal_Videos_722_x264__0.npy\\n', 'test/RGB/Testing_Normal_Videos_Anomaly/Normal_Videos_725_x264__0.npy\\n', 'test/RGB/Testing_Normal_Videos_Anomaly/Normal_Videos_745_x264__0.npy\\n', 'test/RGB/Testing_Normal_Videos_Anomaly/Normal_Videos_758_x264__0.npy\\n', 'test/RGB/Testing_Normal_Videos_Anomaly/Normal_Videos_778_x264__0.npy\\n', 'test/RGB/Testing_Normal_Videos_Anomaly/Normal_Videos_780_x264__0.npy\\n', 'test/RGB/Testing_Normal_Videos_Anomaly/Normal_Videos_781_x264__0.npy\\n', 'test/RGB/Testing_Normal_Videos_Anomaly/Normal_Videos_782_x264__0.npy\\n', 'test/RGB/Testing_Normal_Videos_Anomaly/Normal_Videos_783_x264__0.npy\\n', 'test/RGB/Testing_Normal_Videos_Anomaly/Normal_Videos_798_x264__0.npy\\n', 'test/RGB/Testing_Normal_Videos_Anomaly/Normal_Videos_801_x264__0.npy\\n', 'test/RGB/Testing_Normal_Videos_Anomaly/Normal_Videos_828_x264__0.npy\\n', 'test/RGB/Testing_Normal_Videos_Anomaly/Normal_Videos_831_x264__0.npy\\n', 'test/RGB/Testing_Normal_Videos_Anomaly/Normal_Videos_866_x264__0.npy\\n', 'test/RGB/Testing_Normal_Videos_Anomaly/Normal_Videos_867_x264__0.npy\\n', 'test/RGB/Testing_Normal_Videos_Anomaly/Normal_Videos_868_x264__0.npy\\n', 'test/RGB/Testing_Normal_Videos_Anomaly/Normal_Videos_869_x264__0.npy\\n', 'test/RGB/Testing_Normal_Videos_Anomaly/Normal_Videos_870_x264__0.npy\\n', 'test/RGB/Testing_Normal_Videos_Anomaly/Normal_Videos_871_x264__0.npy\\n', 'test/RGB/Testing_Normal_Videos_Anomaly/Normal_Videos_872_x264__0.npy\\n', 'test/RGB/Testing_Normal_Videos_Anomaly/Normal_Videos_873_x264__0.npy\\n', 'test/RGB/Testing_Normal_Videos_Anomaly/Normal_Videos_874_x264__0.npy\\n', 'test/RGB/Testing_Normal_Videos_Anomaly/Normal_Videos_875_x264__0.npy\\n', 'test/RGB/Testing_Normal_Videos_Anomaly/Normal_Videos_876_x264__0.npy\\n', 'test/RGB/Testing_Normal_Videos_Anomaly/Normal_Videos_877_x264__0.npy\\n', 'test/RGB/Testing_Normal_Videos_Anomaly/Normal_Videos_878_x264__0.npy\\n', 'test/RGB/Testing_Normal_Videos_Anomaly/Normal_Videos_879_x264__0.npy\\n', 'test/RGB/Testing_Normal_Videos_Anomaly/Normal_Videos_880_x264__0.npy\\n', 'test/RGB/Testing_Normal_Videos_Anomaly/Normal_Videos_881_x264__0.npy\\n', 'test/RGB/Testing_Normal_Videos_Anomaly/Normal_Videos_882_x264__0.npy\\n', 'test/RGB/Testing_Normal_Videos_Anomaly/Normal_Videos_883_x264__0.npy\\n', 'test/RGB/Testing_Normal_Videos_Anomaly/Normal_Videos_884_x264__0.npy\\n', 'test/RGB/Testing_Normal_Videos_Anomaly/Normal_Videos_885_x264__0.npy\\n', 'test/RGB/Testing_Normal_Videos_Anomaly/Normal_Videos_886_x264__0.npy\\n', 'test/RGB/Testing_Normal_Videos_Anomaly/Normal_Videos_887_x264__0.npy\\n', 'test/RGB/Testing_Normal_Videos_Anomaly/Normal_Videos_888_x264__0.npy\\n', 'test/RGB/Testing_Normal_Videos_Anomaly/Normal_Videos_889_x264__0.npy\\n', 'test/RGB/Testing_Normal_Videos_Anomaly/Normal_Videos_890_x264__0.npy\\n', 'test/RGB/Testing_Normal_Videos_Anomaly/Normal_Videos_891_x264__0.npy\\n', 'test/RGB/Testing_Normal_Videos_Anomaly/Normal_Videos_892_x264__0.npy\\n', 'test/RGB/Testing_Normal_Videos_Anomaly/Normal_Videos_893_x264__0.npy\\n', 'test/RGB/Testing_Normal_Videos_Anomaly/Normal_Videos_894_x264__0.npy\\n', 'test/RGB/Testing_Normal_Videos_Anomaly/Normal_Videos_895_x264__0.npy\\n', 'test/RGB/Testing_Normal_Videos_Anomaly/Normal_Videos_896_x264__0.npy\\n', 'test/RGB/Testing_Normal_Videos_Anomaly/Normal_Videos_897_x264__0.npy\\n', 'test/RGB/Testing_Normal_Videos_Anomaly/Normal_Videos_898_x264__0.npy\\n', 'test/RGB/Testing_Normal_Videos_Anomaly/Normal_Videos_899_x264__0.npy\\n', 'test/RGB/Testing_Normal_Videos_Anomaly/Normal_Videos_900_x264__0.npy\\n', 'test/RGB/Testing_Normal_Videos_Anomaly/Normal_Videos_901_x264__0.npy\\n', 'test/RGB/Testing_Normal_Videos_Anomaly/Normal_Videos_902_x264__0.npy\\n', 'test/RGB/Testing_Normal_Videos_Anomaly/Normal_Videos_903_x264__0.npy\\n', 'test/RGB/Testing_Normal_Videos_Anomaly/Normal_Videos_904_x264__0.npy\\n', 'test/RGB/Testing_Normal_Videos_Anomaly/Normal_Videos_905_x264__0.npy\\n', 'test/RGB/Testing_Normal_Videos_Anomaly/Normal_Videos_906_x264__0.npy\\n', 'test/RGB/Testing_Normal_Videos_Anomaly/Normal_Videos_907_x264__0.npy\\n', 'test/RGB/Testing_Normal_Videos_Anomaly/Normal_Videos_908_x264__0.npy\\n', 'test/RGB/Testing_Normal_Videos_Anomaly/Normal_Videos_909_x264__0.npy\\n', 'test/RGB/Testing_Normal_Videos_Anomaly/Normal_Videos_910_x264__0.npy\\n', 'test/RGB/Testing_Normal_Videos_Anomaly/Normal_Videos_911_x264__0.npy\\n', 'test/RGB/Testing_Normal_Videos_Anomaly/Normal_Videos_912_x264__0.npy\\n', 'test/RGB/Testing_Normal_Videos_Anomaly/Normal_Videos_913_x264__0.npy\\n', 'test/RGB/Testing_Normal_Videos_Anomaly/Normal_Videos_914_x264__0.npy\\n', 'test/RGB/Testing_Normal_Videos_Anomaly/Normal_Videos_915_x264__0.npy\\n', 'test/RGB/Testing_Normal_Videos_Anomaly/Normal_Videos_923_x264__0.npy\\n', 'test/RGB/Testing_Normal_Videos_Anomaly/Normal_Videos_924_x264__0.npy\\n', 'test/RGB/Testing_Normal_Videos_Anomaly/Normal_Videos_925_x264__0.npy\\n', 'test/RGB/Testing_Normal_Videos_Anomaly/Normal_Videos_926_x264__0.npy\\n', 'test/RGB/Testing_Normal_Videos_Anomaly/Normal_Videos_927_x264__0.npy\\n', 'test/RGB/Testing_Normal_Videos_Anomaly/Normal_Videos_928_x264__0.npy\\n', 'test/RGB/Testing_Normal_Videos_Anomaly/Normal_Videos_929_x264__0.npy\\n', 'test/RGB/Testing_Normal_Videos_Anomaly/Normal_Videos_930_x264__0.npy\\n', 'test/RGB/Testing_Normal_Videos_Anomaly/Normal_Videos_931_x264__0.npy\\n', 'test/RGB/Testing_Normal_Videos_Anomaly/Normal_Videos_932_x264__0.npy\\n', 'test/RGB/Testing_Normal_Videos_Anomaly/Normal_Videos_933_x264__0.npy\\n', 'test/RGB/Testing_Normal_Videos_Anomaly/Normal_Videos_934_x264__0.npy\\n', 'test/RGB/Testing_Normal_Videos_Anomaly/Normal_Videos_935_x264__0.npy\\n', 'test/RGB/Testing_Normal_Videos_Anomaly/Normal_Videos_936_x264__0.npy\\n', 'test/RGB/Testing_Normal_Videos_Anomaly/Normal_Videos_937_x264__0.npy\\n', 'test/RGB/Testing_Normal_Videos_Anomaly/Normal_Videos_938_x264__0.npy\\n', 'test/RGB/Testing_Normal_Videos_Anomaly/Normal_Videos_939_x264__0.npy\\n', 'test/RGB/Testing_Normal_Videos_Anomaly/Normal_Videos_940_x264__0.npy\\n', 'test/RGB/Testing_Normal_Videos_Anomaly/Normal_Videos_941_x264__0.npy\\n', 'test/RGB/Testing_Normal_Videos_Anomaly/Normal_Videos_943_x264__0.npy\\n', 'test/RGB/Testing_Normal_Videos_Anomaly/Normal_Videos_944_x264__0.npy\\n']\n",
      "290개의 파일 이름이 리스트 파일에 추가되었습니다.\n"
     ]
    }
   ],
   "source": [
    "# 리스트 파일 경로\n",
    "# list_file_path = \"파일 목록.txt\"\n",
    "\n",
    "# # 리스트 파일 읽기\n",
    "# with open(list_file_path, \"r\") as f:\n",
    "#     file_names = f.readlines()\n",
    "def update_file_name(file_name):\n",
    "    \"\"\"파일 이름 뒤에 __0.npy를 추가합니다.\"\"\"\n",
    "    parts = file_name.split('.')  # 확장자를 기준으로 파일 이름을 분리\n",
    "    file_name_prefix = parts[0]\n",
    "    if len(parts) == 1:  # 확장자가 없는 경우\n",
    "        return file_name_prefix + '__0'\n",
    "    else:  # 확장자가 있는 경우\n",
    "        return file_name_prefix + '__0.' + parts[1]\n",
    "\n",
    "# 각 파일 이름 뒤에 __0.npy 추가하여 새로운 파일 이름 목록 생성\n",
    "\n",
    "\n",
    "print(new_file_names)\n",
    "# 리스트 파일 경로\n",
    "list_file_path = \"ucf-c3d-test3.list\"\n",
    "\n",
    "# 리스트 파일 읽기\n",
    "with open(list_file_path, \"r\") as f:\n",
    "    file_names = f.readlines()\n",
    "\n",
    "\n",
    "# 새로운 파일 이름 목록으로 리스트 파일 덮어쓰기\n",
    "# with open(list_file_path, \"w\") as f:\n",
    "#     f.writelines(new_file_names)\n",
    "# 새로운 파일 이름으로 파일 이름 변경\n",
    "try:\n",
    "    for file_name in file_names:\n",
    "        old_file_name = os.path.join(\"/home/bigdeal/mnt2/BN-WVAD/UCF_Crimes/\", file_name.strip())\n",
    "        new_file_name = os.path.join(\"/home/bigdeal/mnt2/BN-WVAD/UCF_Crimes/\", update_file_name(file_name.strip()))\n",
    "        os.rename(old_file_name, new_file_name)\n",
    "except:\n",
    "    pass\n",
    "\n",
    "\n",
    "\n",
    "\n",
    "# 결과 출력\n",
    "print(f\"{len(new_file_names)}개의 파일 이름이 리스트 파일에 추가되었습니다.\")\n"
   ]
  },
  {
   "cell_type": "code",
   "execution_count": 24,
   "metadata": {},
   "outputs": [
    {
     "data": {
      "text/plain": [
       "'/home/bigdeal/mnt2/BN-WVAD/list'"
      ]
     },
     "execution_count": 24,
     "metadata": {},
     "output_type": "execute_result"
    }
   ],
   "source": [
    "os.getcwd()"
   ]
  },
  {
   "cell_type": "code",
   "execution_count": null,
   "metadata": {},
   "outputs": [],
   "source": []
  }
 ],
 "metadata": {
  "kernelspec": {
   "display_name": "wvad",
   "language": "python",
   "name": "python3"
  },
  "language_info": {
   "codemirror_mode": {
    "name": "ipython",
    "version": 3
   },
   "file_extension": ".py",
   "mimetype": "text/x-python",
   "name": "python",
   "nbconvert_exporter": "python",
   "pygments_lexer": "ipython3",
   "version": "3.11.8"
  }
 },
 "nbformat": 4,
 "nbformat_minor": 2
}
