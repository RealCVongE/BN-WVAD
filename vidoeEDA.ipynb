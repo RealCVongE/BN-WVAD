{
 "cells": [
  {
   "cell_type": "code",
   "execution_count": 1,
   "metadata": {},
   "outputs": [
    {
     "ename": "KeyboardInterrupt",
     "evalue": "",
     "output_type": "error",
     "traceback": [
      "\u001b[0;31m---------------------------------------------------------------------------\u001b[0m",
      "\u001b[0;31mKeyboardInterrupt\u001b[0m                         Traceback (most recent call last)",
      "Cell \u001b[0;32mIn[1], line 48\u001b[0m\n\u001b[1;32m     45\u001b[0m     \u001b[38;5;28;01mbreak\u001b[39;00m\n\u001b[1;32m     47\u001b[0m \u001b[38;5;66;03m# 프레임 설정 및 읽기\u001b[39;00m\n\u001b[0;32m---> 48\u001b[0m \u001b[43mcap\u001b[49m\u001b[38;5;241;43m.\u001b[39;49m\u001b[43mset\u001b[49m\u001b[43m(\u001b[49m\u001b[43mcv2\u001b[49m\u001b[38;5;241;43m.\u001b[39;49m\u001b[43mCAP_PROP_POS_FRAMES\u001b[49m\u001b[43m,\u001b[49m\u001b[43m \u001b[49m\u001b[43mframe_number\u001b[49m\u001b[43m)\u001b[49m\n\u001b[1;32m     49\u001b[0m ret, frame \u001b[38;5;241m=\u001b[39m cap\u001b[38;5;241m.\u001b[39mread()\n\u001b[1;32m     51\u001b[0m \u001b[38;5;66;03m# 프레임 정보 업데이트\u001b[39;00m\n",
      "\u001b[0;31mKeyboardInterrupt\u001b[0m: "
     ]
    },
    {
     "ename": "",
     "evalue": "",
     "output_type": "error",
     "traceback": [
      "\u001b[1;31mThe Kernel crashed while executing code in the the current cell or a previous cell. Please review the code in the cell(s) to identify a possible cause of the failure. Click <a href='https://aka.ms/vscodeJupyterKernelCrash'>here</a> for more info. View Jupyter <a href='command:jupyter.viewOutput'>log</a> for further details."
     ]
    }
   ],
   "source": [
    "import cv2\n",
    "\n",
    "# 비디오 파일 경로\n",
    "video_path = 'UCF_Crimes/Videos/Shoplifting/Shoplifting001_x264.mp4'\n",
    "\n",
    "# 비디오 파일 열기\n",
    "cap = cv2.VideoCapture(video_path)\n",
    "\n",
    "# 누적 프레임 번호 변수\n",
    "frame_number = 100\n",
    "#마지막 1443\n",
    "#1443-1080= 363\n",
    "# 프레임 읽기\n",
    "ret, frame = cap.read()\n",
    "\n",
    "# 초기화\n",
    "current_frame_number = cap.get(cv2.CAP_PROP_POS_FRAMES)  # 현재 프레임 번호\n",
    "frame_time = cap.get(cv2.CAP_PROP_POS_MSEC) / 1000  # 현재 프레임의 시간(초)\n",
    "\n",
    "# 반복\n",
    "while True:\n",
    "\n",
    "    # 프레임 정보 표시\n",
    "    cv2.putText(frame, f\"Frame: {current_frame_number}\", (10, 30), cv2.FONT_HERSHEY_SIMPLEX, 1.0, (255, 255, 255), 2)\n",
    "    cv2.putText(frame, f\"Time: {frame_time:.2f} seconds\", (10, 60), cv2.FONT_HERSHEY_SIMPLEX, 1.0, (255, 255, 255), 2)\n",
    "\n",
    "    # 프레임 보여주기\n",
    "    cv2.imshow('Frame', frame)\n",
    "\n",
    "    # 키 입력 처리\n",
    "    key = cv2.waitKey(1) & 0xFF\n",
    "\n",
    "    # 왼쪽 화살표 키: 이전 프레임으로 이동\n",
    "    if key == ord('a'):\n",
    "        frame_number -= 1\n",
    "        if frame_number < 0:\n",
    "            frame_number = 0\n",
    "\n",
    "    # 오른쪽 화살표 키: 다음 프레임으로 이동\n",
    "    elif key == ord('d'):\n",
    "        frame_number += 1\n",
    "\n",
    "    # 'q' 키: 종료\n",
    "    elif key == ord('q'):\n",
    "        break\n",
    "\n",
    "    # 프레임 설정 및 읽기\n",
    "    cap.set(cv2.CAP_PROP_POS_FRAMES, frame_number)\n",
    "    ret, frame = cap.read()\n",
    "\n",
    "    # 프레임 정보 업데이트\n",
    "    current_frame_number = cap.get(cv2.CAP_PROP_POS_FRAMES)  # 현재 프레임 번호\n",
    "    frame_time = cap.get(cv2.CAP_PROP_POS_MSEC) / 1000  # 현재 프레임의 시간(초)\n",
    "\n",
    "# 비디오 해제\n",
    "cap.release()\n",
    "\n",
    "# 종료 메시지\n",
    "print(\"종료되었습니다.\")\n"
   ]
  },
  {
   "cell_type": "code",
   "execution_count": null,
   "metadata": {},
   "outputs": [],
   "source": []
  }
 ],
 "metadata": {
  "kernelspec": {
   "display_name": "wvad",
   "language": "python",
   "name": "python3"
  },
  "language_info": {
   "codemirror_mode": {
    "name": "ipython",
    "version": 3
   },
   "file_extension": ".py",
   "mimetype": "text/x-python",
   "name": "python",
   "nbconvert_exporter": "python",
   "pygments_lexer": "ipython3",
   "version": "3.11.8"
  }
 },
 "nbformat": 4,
 "nbformat_minor": 2
}
